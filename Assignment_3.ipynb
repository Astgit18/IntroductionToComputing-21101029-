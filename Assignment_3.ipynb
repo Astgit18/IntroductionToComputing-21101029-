{
  "nbformat": 4,
  "nbformat_minor": 0,
  "metadata": {
    "colab": {
      "name": "Assignment 3.ipynb",
      "provenance": [],
      "collapsed_sections": [],
      "authorship_tag": "ABX9TyPXdNjUqtjyp/s0wpp6mJyd",
      "include_colab_link": true
    },
    "kernelspec": {
      "name": "python3",
      "display_name": "Python 3"
    },
    "language_info": {
      "name": "python"
    }
  },
  "cells": [
    {
      "cell_type": "markdown",
      "metadata": {
        "id": "view-in-github",
        "colab_type": "text"
      },
      "source": [
        "<a href=\"https://colab.research.google.com/github/Astgit18/IntroductionToComputing-21101029-/blob/main/Assignment_3.ipynb\" target=\"_parent\"><img src=\"https://colab.research.google.com/assets/colab-badge.svg\" alt=\"Open In Colab\"/></a>"
      ]
    },
    {
      "cell_type": "markdown",
      "source": [
        "**1. Write a program to take a number as input and convert it into its binary equivalent.**"
      ],
      "metadata": {
        "id": "cFYgJu0fl7B7"
      }
    },
    {
      "cell_type": "code",
      "execution_count": null,
      "metadata": {
        "colab": {
          "base_uri": "https://localhost:8080/"
        },
        "id": "yI2QfssrljGP",
        "outputId": "24857c35-faf3-4b05-ab4d-803e6148b0ff"
      },
      "outputs": [
        {
          "output_type": "stream",
          "name": "stdout",
          "text": [
            "enter the number: 14.55\n",
            "0b1110.1000110\n"
          ]
        }
      ],
      "source": [
        "\n",
        "deci_ml= float(input('enter the number: '))\n",
        "a = int(deci_ml)\n",
        "a= bin(a)\n",
        "fRac= str(a)\n",
        "deci_ml= (deci_ml - int(deci_ml))\n",
        "a= deci_ml\n",
        "#print(int(a))\n",
        "fRac+=\".\"\n",
        "for y in range (7):\n",
        " a=a*2\n",
        " if(int(a)==1):\n",
        "  fRac+=\"1\"\n",
        "  a= a - 1\n",
        " else: \n",
        "  fRac+=\"0\"\n",
        "print(fRac)"
      ]
    },
    {
      "cell_type": "markdown",
      "source": [
        "**2. Write an interactive Python calculator program. The program should allow the user\n",
        "to type a mathematical expression, and then print the value of the expression.**"
      ],
      "metadata": {
        "id": "0CN_0k3xDCZS"
      }
    },
    {
      "cell_type": "code",
      "source": [
        "a = float (input('enter the first value '))\n",
        "eXpresn = str(input('choose the operator among + - * or /  : '))\n",
        "b = float (input ('enter the second value '))\n",
        "print('your expression : ', a,eXpresn,b)\n",
        "if ('+' in eXpresn):\n",
        "  print(\"result \" ,a+b)\n",
        "elif ('-' in eXpresn):\n",
        "  print(\"result \" ,a-b)\n",
        "elif ('*' in eXpresn):\n",
        "  print(\"result \" ,a*b)\n",
        "elif('/' in eXpresn):\n",
        "  print(\"result \" ,a/b)\n",
        "else:\n",
        "  print(\"error\")"
      ],
      "metadata": {
        "colab": {
          "base_uri": "https://localhost:8080/"
        },
        "id": "2_Ub-GFUpriF",
        "outputId": "6267a131-dd5f-4163-e040-817e69e85416"
      },
      "execution_count": null,
      "outputs": [
        {
          "output_type": "stream",
          "name": "stdout",
          "text": [
            "enter the first value 12.55\n",
            "choose the operator among + - * or /  : *\n",
            "enter the second value 55.66\n",
            "your expression :  12.55 * 55.66\n",
            "result  698.533\n"
          ]
        }
      ]
    },
    {
      "cell_type": "markdown",
      "source": [
        "**3.Translate each of the following mathematical expressions into an equiva lent Python expression. You may assume that the math library has been imported (via import math).**\n",
        "\n",
        "a) (3+4)(5)\n",
        "\n",
        "b) n(n-1)/2\n",
        "\n",
        "c) 4 pi r^2\n",
        "\n",
        "d) √(r(cosa) +r(sin b)²)\n",
        "\n",
        "e) (y2 - y1) / (x2 - x1)"
      ],
      "metadata": {
        "id": "OwZArJQ0Yklc"
      }
    },
    {
      "cell_type": "code",
      "source": [
        "import math \n",
        "print(\"a)\",(3+4)*(5))\n",
        "n = int(input(\"'b)', enter the value : \"))\n",
        "print(n*(n-1)/2)\n",
        "rAd= float(input('c) enter the radius : ')) \n",
        "print(4*math.pi*rAd**2)\n",
        "r = float(input(\"d) enter the value\"))\n",
        "a = int (input('enter the value in degree : '))\n",
        "a = (a/ 180)*(math.pi)\n",
        "print(math.sqrt(r*(math.cos(a))**2 + r*(math.sin(a))**2 ))\n",
        "y2 = float(input('enettr the value of y2 : '))\n",
        "y1 = float(input('enettr the value of y1 : '))\n",
        "x2 = float(input('enettr the value of x2 : '))\n",
        "x1 = float(input('enettr the value of x1 : '))\n",
        "print((y2- y1)/(x2- x1))\n"
      ],
      "metadata": {
        "colab": {
          "base_uri": "https://localhost:8080/"
        },
        "id": "mcEeMPo3QtFU",
        "outputId": "d8c0d8ad-89ae-4e89-f241-e4c455952b2d"
      },
      "execution_count": null,
      "outputs": [
        {
          "output_type": "stream",
          "name": "stdout",
          "text": [
            "a) 35\n",
            "'b)', enter the value : 3\n",
            "c) enter the radius : 3\n",
            "3.0\n",
            "113.09733552923255\n",
            "d) enter the value3\n",
            "enter the value in degree : 0\n",
            "1.7320508075688772\n",
            "enettr the value of y2 : 55\n",
            "enettr the value of y1 : 33\n",
            "enettr the value of x1 : 12\n",
            "enettr the value of x2 : 1\n",
            "2.0\n"
          ]
        }
      ]
    },
    {
      "cell_type": "markdown",
      "source": [
        "**4. Show the sequence of numbers that would be generated by each of the following\n",
        "range expressions.**\n",
        "\n",
        "a) range (5)\n",
        "\n",
        "b) range (3, 10)\n",
        "\n",
        "c) range (4, 13, 3)\n",
        "\n",
        "d) range (15, 5, -2)\n",
        "\n",
        "e) range (5,3)"
      ],
      "metadata": {
        "id": "jo2oFbbwX-8H"
      }
    },
    {
      "cell_type": "code",
      "source": [
        "\n",
        "for y in range(5):\n",
        "  print(y, end=\" ,\")\n",
        " \n",
        "print(\"\\n\")\n",
        "for p in range (3, 10):\n",
        "  print(p,end=\" ,\")\n",
        "\n",
        "print(\"\\n\")\n",
        "for t in range (4, 13, 3):\n",
        "  print(t,end=\" ,\")\n",
        "\n",
        "print(\"\\n\")\n",
        "for h in range(15, 5, -2):\n",
        "  print(h,end=\" ,\")\n",
        "\n",
        "print(\"\\n\")\n",
        "for o in range(5,3):\n",
        "  print(o,end=\" ,\")"
      ],
      "metadata": {
        "colab": {
          "base_uri": "https://localhost:8080/"
        },
        "id": "Mc30NyJdSHKN",
        "outputId": "80b917bc-ddcd-493b-a4c5-697441cc4baf"
      },
      "execution_count": null,
      "outputs": [
        {
          "output_type": "stream",
          "name": "stdout",
          "text": [
            "0 ,1 ,2 ,3 ,4 ,\n",
            "\n",
            "3 ,4 ,5 ,6 ,7 ,8 ,9 ,\n",
            "\n",
            "4 ,7 ,10 ,\n",
            "\n",
            "15 ,13 ,11 ,9 ,7 ,\n",
            "\n"
          ]
        }
      ]
    },
    {
      "cell_type": "markdown",
      "source": [
        "**5.Write a program that computes the molecular weight of a carbohydrate (in grams per mole) based on the number of hydrogen, carbon, and oxygen atoms in the molecule. The program should prompt the user to enter the number of hydrogen atoms, the number of carbon atoms, and the number of oxygen atoms. The program then prints the total combined molecular weight of all the atoms based on these individual atom weights:**\n",
        "\n",
        "**Atom Weight**\n",
        "\n",
        "H : (grams/ mole) 1.00794\n",
        "\n",
        "с : 12.0107\n",
        "\n",
        "o : 15.9994\n",
        "\n",
        "For example, the molecular weight of water (H₂O) is: 2(1.00794) + 15.9994 18.01528."
      ],
      "metadata": {
        "id": "3M_8NWndK7Ex"
      }
    },
    {
      "cell_type": "code",
      "source": [
        "c = int(input('enter the number of carbon :'))\n",
        "o = int(input('enter the number of oxygen :'))\n",
        "h = int(input('enter the number of hydrogen : '))\n",
        "print('molecular weight is' ,1.007945*h + 12.0107*c + 15.9994*o)"
      ],
      "metadata": {
        "colab": {
          "base_uri": "https://localhost:8080/"
        },
        "id": "3IWqJqwiH4y7",
        "outputId": "20c34c7e-40ed-4794-8981-09ddce0f48a3"
      },
      "execution_count": null,
      "outputs": [
        {
          "output_type": "stream",
          "name": "stdout",
          "text": [
            "enter the number of carbon :6\n",
            "enter the number of oxygen :6\n",
            "enter the number of hydrogen : 12\n",
            "molecular weight is 180.15594\n"
          ]
        }
      ]
    }
  ]
}