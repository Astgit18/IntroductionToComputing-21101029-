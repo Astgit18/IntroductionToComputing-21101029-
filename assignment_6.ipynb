{
  "cells": [
    {
      "cell_type": "markdown",
      "metadata": {
        "id": "view-in-github",
        "colab_type": "text"
      },
      "source": [
        "<a href=\"https://colab.research.google.com/github/Astgit18/IntroductionToComputing-21101029-/blob/main/assignment_6.ipynb\" target=\"_parent\"><img src=\"https://colab.research.google.com/assets/colab-badge.svg\" alt=\"Open In Colab\"/></a>"
      ]
    },
    {
      "cell_type": "code",
      "execution_count": null,
      "metadata": {
        "id": "OU2yd6RTpMhz",
        "colab": {
          "base_uri": "https://localhost:8080/"
        },
        "outputId": "a0753c18-ea09-48f0-9ed3-1c49e2aead47"
      },
      "outputs": [
        {
          "output_type": "stream",
          "name": "stdout",
          "text": [
            "enter the value : malayalam\n",
            "reverse syring is  malayalam\n",
            "malayalam is a palindrome\n"
          ]
        }
      ],
      "source": [
        "wOrd = input('enter the value : ')\n",
        "a = len(wOrd)\n",
        "rev = wOrd[::-1]\n",
        "print('reverse syring is ',rev)\n",
        "if rev == wOrd :\n",
        "  print(wOrd, \"is a palindrome\")\n",
        "else:\n",
        "  print(wOrd, \"is not a palindrome\")"
      ]
    },
    {
      "cell_type": "code",
      "execution_count": null,
      "metadata": {
        "colab": {
          "base_uri": "https://localhost:8080/"
        },
        "id": "7O9Ez7O4mV2T",
        "outputId": "7569a048-e6fb-4666-dd5a-c28d1dffcaf6"
      },
      "outputs": [
        {
          "output_type": "stream",
          "name": "stdout",
          "text": [
            "enter the value : 496\n",
            "The number 496  is perfect number\n"
          ]
        }
      ],
      "source": [
        "a = int(input('enter the value : '))\n",
        "b = list()\n",
        "for i in range (1 , int(a)):\n",
        "  if a%i == 0:\n",
        "   b.append(i)\n",
        "if sum(b) == a:\n",
        "  print('The number', a,' is perfect number')\n",
        "else:\n",
        "  print('The number', a,' is not perfect number')"
      ]
    },
    {
      "cell_type": "code",
      "execution_count": null,
      "metadata": {
        "colab": {
          "base_uri": "https://localhost:8080/"
        },
        "id": "t8-X5UF9s0iD",
        "outputId": "772d0d06-75bf-4871-f67a-3462cf4a0705"
      },
      "outputs": [
        {
          "name": "stdout",
          "output_type": "stream",
          "text": [
            "                           01    \n",
            "                        01    01    \n",
            "                     01    02    01    \n",
            "                  01    03    03    01    \n",
            "               01    04    06    04    01    \n",
            "            01    05    10    10    05    01    \n",
            "         01    06    15    20    15    06    01    \n",
            "      01    07    21    35    35    21    07    01    \n"
          ]
        }
      ],
      "source": [
        "# Print Pascal's Triangle in Python\n",
        "from math import factorial\n",
        "\n",
        "# input n\n",
        "n = 8\n",
        "for i in range(n):\n",
        "    for j in range(n-i+1):\n",
        "\n",
        "        # for left spacing\n",
        "        print(end=\"   \")\n",
        "\n",
        "    for j in range(i+1):\n",
        "\n",
        "        # nCr = n!/((n-r)!*r!)\n",
        "        a = str(factorial(i)//(factorial(j)*factorial(i-j))).zfill(2)\n",
        "        print(a, end=\"    \")\n",
        "\n",
        "    # for new line\n",
        "    print()"
      ]
    },
    {
      "cell_type": "code",
      "execution_count": null,
      "metadata": {
        "colab": {
          "base_uri": "https://localhost:8080/"
        },
        "id": "NU3q5QOFvUup",
        "outputId": "035e7ba0-c264-40a3-bae0-5f62a403f98e"
      },
      "outputs": [
        {
          "output_type": "stream",
          "name": "stdout",
          "text": [
            " Enter the sentence : Quick, all my friends are toxic and ambitionless so rude and lazy, can just think always negetive peep. \n",
            "yes, given sentence is pangram\n"
          ]
        }
      ],
      "source": [
        "a = ['a','b','c','d','e','f','g','h','i','j','k','l','m','n','o','p','q','r','s','t','u','v','z','w','x','y']\n",
        "my_str = input(' Enter the sentence : ')\n",
        "for i in a:\n",
        "  if i not in my_str: \n",
        "    x = 0\n",
        "  else :\n",
        "   x = 1\n",
        "\n",
        "print(('no, the given sentence is not pangram', 'yes, given sentence is pangram') [x == 1])"
      ]
    },
    {
      "cell_type": "code",
      "execution_count": null,
      "metadata": {
        "colab": {
          "base_uri": "https://localhost:8080/"
        },
        "id": "CgGfUjBuem5g",
        "outputId": "e77a21a4-9498-4019-fa35-8cf7130f2ea0"
      },
      "outputs": [
        {
          "name": "stdout",
          "output_type": "stream",
          "text": [
            " enter the list Results-Without-Causes -Are-Often-Impressive\n",
            "Are - Causes  - Impressive - Often - Results - Without - "
          ]
        }
      ],
      "source": [
        "items=[n for n in input(\" enter the list \").split('-')]\n",
        "items.sort()\n",
        "for i in range(len(items)):\n",
        "  print(items[i], end=' - ') "
      ]
    },
    {
      "cell_type": "code",
      "execution_count": null,
      "metadata": {
        "colab": {
          "base_uri": "https://localhost:8080/"
        },
        "id": "EmjkAKkLkRmi",
        "outputId": "50fe9027-c3dd-42d4-d265-92d847da1be0"
      },
      "outputs": [
        {
          "output_type": "stream",
          "name": "stdout",
          "text": [
            "[[1, 2, -3], [1, -4, 3]]\n"
          ]
        }
      ],
      "source": [
        "#a = [n for n in input().split()]\n",
        "a = [1 , 2, -3, -4 ,7, 3]\n",
        "b = list()\n",
        "for i in a:\n",
        "  a.remove(i)\n",
        "  for j in a:\n",
        "    a.remove(j)\n",
        "    for k in a:\n",
        "     if i+ j+ k ==0:\n",
        "      b.append([i,j,k])\n",
        "  a.append(i) \n",
        "print(b)\n"
      ]
    },
    {
      "cell_type": "code",
      "execution_count": null,
      "metadata": {
        "colab": {
          "base_uri": "https://localhost:8080/"
        },
        "id": "xIcXQi6nn7e8",
        "outputId": "73460442-5564-48bf-fc76-9cad369484b4"
      },
      "outputs": [
        {
          "name": "stdout",
          "output_type": "stream",
          "text": [
            "enter the value :  (_) [_] {_}\n",
            "the given string :   (_) [_] {_}    is a valid string\n"
          ]
        }
      ],
      "source": [
        "my_str = input('enter the value : ')\n",
        "x,y,z,w = 0,0,0,0 \n",
        "a=my_str.find('[')\n",
        "b=my_str.find('(')\n",
        "c=my_str.find('{')\n",
        "aa=my_str.find(']')\n",
        "bb=my_str.find(')')\n",
        "cc=my_str.find('}')\n",
        "if ('(' in my_str and ')' in my_str and b<bb ):\n",
        "  y = 1\n",
        "if ('[' in my_str and ']' in my_str and a < aa ):\n",
        "  x = 1\n",
        "if ('{' in my_str and '}' in my_str and c < cc ):\n",
        "  z = 1\n",
        "if x==1 and y==1 and z==1 :\n",
        "  print('the given string : ', my_str, '   is a valid string')\n",
        "else: \n",
        "  print(' the entered string is not valid')"
      ]
    },
    {
      "cell_type": "code",
      "execution_count": 5,
      "metadata": {
        "id": "k0aXRwdjst6M",
        "colab": {
          "base_uri": "https://localhost:8080/"
        },
        "outputId": "02ed6d20-35ac-4462-f6e6-f577618b815d"
      },
      "outputs": [
        {
          "output_type": "stream",
          "name": "stdout",
          "text": [
            "enter the name of student: Daivya Patel\n",
            "enter the id of the student: 511\n",
            "enter the Class of the student: 5th\n",
            "Daivya Patel\n",
            "511\n",
            "5th\n"
          ]
        }
      ],
      "source": [
        "def student_data(student_name,student_id,student_Class ):\n",
        "  print(student_name)\n",
        "  print(student_id)\n",
        "  print(student_Class )\n",
        "\n",
        "name = str(input('enter the name of student: '))\n",
        "id = int(input('enter the id of the student: '))\n",
        "Class = input('enter the Class of the student: ')\n",
        "t= student_data(name,id,Class)"
      ]
    },
    {
      "cell_type": "code",
      "source": [
        "\n",
        "class Student:\n",
        "    pass \n",
        "class Marks:\n",
        "    pass \n",
        "student1 = Student()\n",
        "marks1 = Marks()\n",
        "print(isinstance(student1, Student))\n",
        "print(isinstance(marks1, Student))\n",
        "print(isinstance(marks1, Marks)) \n",
        "print(isinstance(student1, Marks))\n",
        "print(\"\\nCheck whether the said classes are subclasses of the built-in object class or not.\")\n",
        "print(issubclass(Student, object))\n",
        "print(issubclass(Marks, object))"
      ],
      "metadata": {
        "colab": {
          "base_uri": "https://localhost:8080/"
        },
        "id": "vnFXn0dX-s6r",
        "outputId": "21b4eecb-3a8d-445a-f09d-c3091343ed85"
      },
      "execution_count": null,
      "outputs": [
        {
          "output_type": "stream",
          "name": "stdout",
          "text": [
            "True\n",
            "False\n",
            "True\n",
            "False\n",
            "\n",
            "Check whether the said classes are subclasses of the built-in object class or not.\n",
            "True\n",
            "True\n"
          ]
        }
      ]
    },
    {
      "cell_type": "code",
      "source": [
        "a = [int(n) for n in input(\" enter the list \").split()]\n",
        "class py_solution:\n",
        " def sum_tri(self, nums):\n",
        "        nums, result, i = sorted(nums), [], 0\n",
        "        while i < len(nums) - 2:\n",
        "            j, k = i + 1, len(nums) - 1\n",
        "            while j < k:\n",
        "                if nums[i] + nums[j] + nums[k] < 0:\n",
        "                    j += 1\n",
        "                elif nums[i] + nums[j] + nums[k] > 0:\n",
        "                    k -= 1\n",
        "                else:\n",
        "                    result.append([nums[i], nums[j], nums[k]])\n",
        "                    j, k = j + 1, k - 1\n",
        "                    while j < k and nums[j] == nums[j - 1]:\n",
        "                        j += 1\n",
        "                    while j < k and nums[k] == nums[k + 1]:\n",
        "                        k -= 1\n",
        "            i += 1\n",
        "            while i < len(nums) - 2 and nums[i] == nums[i - 1]:\n",
        "                i += 1\n",
        "        return result\n",
        "print(py_solution().sum_tri(a))"
      ],
      "metadata": {
        "id": "qi4WWKzX_Gsh",
        "colab": {
          "base_uri": "https://localhost:8080/"
        },
        "outputId": "ff64202c-9d80-43dc-8f3e-49078c556574"
      },
      "execution_count": 11,
      "outputs": [
        {
          "output_type": "stream",
          "name": "stdout",
          "text": [
            " enter the list 2 3 -5 4 1 -3 -1\n",
            "[[-5, 1, 4], [-5, 2, 3], [-3, -1, 4], [-3, 1, 2]]\n"
          ]
        }
      ]
    }
  ],
  "metadata": {
    "colab": {
      "collapsed_sections": [],
      "name": "assignment 6.ipynb",
      "provenance": [],
      "authorship_tag": "ABX9TyPdfgFFaxZoeR7099eqqJbT",
      "include_colab_link": true
    },
    "kernelspec": {
      "display_name": "Python 3",
      "name": "python3"
    },
    "language_info": {
      "name": "python"
    }
  },
  "nbformat": 4,
  "nbformat_minor": 0
}