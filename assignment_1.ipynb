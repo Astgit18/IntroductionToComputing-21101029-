{
  "nbformat": 4,
  "nbformat_minor": 0,
  "metadata": {
    "colab": {
      "name": "assignment 1",
      "provenance": [],
      "collapsed_sections": [],
      "authorship_tag": "ABX9TyNSwToRhupp5zG5MRL2kBdp",
      "include_colab_link": true
    },
    "kernelspec": {
      "name": "python3",
      "display_name": "Python 3"
    },
    "language_info": {
      "name": "python"
    }
  },
  "cells": [
    {
      "cell_type": "markdown",
      "metadata": {
        "id": "view-in-github",
        "colab_type": "text"
      },
      "source": [
        "<a href=\"https://colab.research.google.com/github/Astgit18/IntroductionToComputing-21101029-/blob/main/assignment_1.ipynb\" target=\"_parent\"><img src=\"https://colab.research.google.com/assets/colab-badge.svg\" alt=\"Open In Colab\"/></a>"
      ]
    },
    {
      "cell_type": "markdown",
      "source": [
        "**1. Write a Python program to find average of three numbers entered by the user.**"
      ],
      "metadata": {
        "id": "z7xaJyRLbkuQ"
      }
    },
    {
      "cell_type": "code",
      "execution_count": null,
      "metadata": {
        "colab": {
          "base_uri": "https://localhost:8080/"
        },
        "id": "KNTX6lZWLy0G",
        "outputId": "8b3840bb-c1bf-4105-e05b-7e21204df634"
      },
      "outputs": [
        {
          "name": "stdout",
          "output_type": "stream",
          "text": [
            "Enter first number: 77\n",
            "Enter second number: 18\n",
            "Enter third number: 17\n"
          ]
        },
        {
          "output_type": "execute_result",
          "data": {
            "text/plain": [
              "22.4"
            ]
          },
          "metadata": {},
          "execution_count": 1
        }
      ],
      "source": [
        "\n",
        "a = input('Enter first number: ')\n",
        "b = input('Enter second number: ')\n",
        "c = input('Enter third number: ')\n",
        "(float(a) + float(b)+ float(c))/5"
      ]
    },
    {
      "cell_type": "markdown",
      "source": [
        "**2.Write a python program to compute a person's income tax. Assume following\n",
        "tax laws:\n",
        "• All taxpayers are charged a flat tax rate of 20%.\n",
        "• All taxpayers are allowed a $10,000 standard deduction.\n",
        "• For each dependent, a taxpayer is allowed an additional $3,000 deduction.\n",
        "• Gross income must be entered to the nearest penny.\n",
        "Gross Income and the number of dependents must be asked from the user.\n",
        "Hint:\n",
        "Taxable income = GrossIncome - Standard deduction - (Dependent deduction**\n",
        "* No. of dependents)\n",
        "Tax = Taxable Incom."
      ],
      "metadata": {
        "id": "t-eaiZDJ2CDH"
      }
    },
    {
      "cell_type": "code",
      "source": [
        "income =int(input('Enter the income: '))\n",
        "dpndnt =int(input(\"Enter the no of dependents : \"))\n",
        "tax_amt=income-10000-(dpndnt*3000)\n",
        "if (tax_amt<=0):\n",
        "   print(\"No tax\")\n",
        "else:\n",
        "    tax_amt*=0.2\n",
        "    print(tax_amt)"
      ],
      "metadata": {
        "colab": {
          "base_uri": "https://localhost:8080/"
        },
        "id": "KgYF9ZGv2I7k",
        "outputId": "ed7834d8-c7fd-49c8-a70d-1bfa4d298952"
      },
      "execution_count": null,
      "outputs": [
        {
          "output_type": "stream",
          "name": "stdout",
          "text": [
            "Enter the income: 40000\n",
            "Enter the no of dependents : 3\n",
            "4200.0\n"
          ]
        }
      ]
    },
    {
      "cell_type": "markdown",
      "source": [
        "**4.Write a python program to add three numbers 25+’25’+25.0 and produce \n",
        "result 75 as string.**"
      ],
      "metadata": {
        "id": "gkfrMkZftnds"
      }
    },
    {
      "cell_type": "code",
      "source": [
        "\n",
        "b='25'\n",
        "b=int(b)\n",
        "a= 25+b+25.0\n",
        "a=int(a)\n",
        "print(str (a))"
      ],
      "metadata": {
        "colab": {
          "base_uri": "https://localhost:8080/"
        },
        "id": "egWitthItsRU",
        "outputId": "96a108c7-c268-4683-c48d-913008937500"
      },
      "execution_count": 1,
      "outputs": [
        {
          "output_type": "stream",
          "name": "stdout",
          "text": [
            "75\n"
          ]
        }
      ]
    },
    {
      "cell_type": "markdown",
      "source": [
        "**5.Write a program that prints out the sine and cosine of the angles ranging \n",
        "from 0 to 345◦ in 15◦ increments. Each result should be rounded to 4 \n",
        "decimal places. Sample output is shown below:**"
      ],
      "metadata": {
        "id": "C9XSsCbnwljJ"
      }
    },
    {
      "cell_type": "code",
      "source": [
        "from math import sin, pi, cos\n",
        "for y in range(24):\n",
        "  #print('\\nfor y= ',y)\n",
        "  y*=((15*pi)/180)\n",
        "  print('\\n\\nfor y=', int(y*180/pi+0.1))\n",
        "  print('sin = ',round(sin(y),4))\n",
        "  print('cos = ',round(cos(y),4))\n",
        "  y*=(180/pi/15)\n",
        "  y+=1"
      ],
      "metadata": {
        "colab": {
          "base_uri": "https://localhost:8080/"
        },
        "id": "g8x0nIaEwpbx",
        "outputId": "11ae9853-ca2c-47cb-9394-181ef8dfbb93"
      },
      "execution_count": null,
      "outputs": [
        {
          "output_type": "stream",
          "name": "stdout",
          "text": [
            "\n",
            "\n",
            "for y= 0\n",
            "sin =  0.0\n",
            "cos =  1.0\n",
            "\n",
            "\n",
            "for y= 15\n",
            "sin =  0.2588\n",
            "cos =  0.9659\n",
            "\n",
            "\n",
            "for y= 30\n",
            "sin =  0.5\n",
            "cos =  0.866\n",
            "\n",
            "\n",
            "for y= 45\n",
            "sin =  0.7071\n",
            "cos =  0.7071\n",
            "\n",
            "\n",
            "for y= 60\n",
            "sin =  0.866\n",
            "cos =  0.5\n",
            "\n",
            "\n",
            "for y= 75\n",
            "sin =  0.9659\n",
            "cos =  0.2588\n",
            "\n",
            "\n",
            "for y= 90\n",
            "sin =  1.0\n",
            "cos =  0.0\n",
            "\n",
            "\n",
            "for y= 105\n",
            "sin =  0.9659\n",
            "cos =  -0.2588\n",
            "\n",
            "\n",
            "for y= 120\n",
            "sin =  0.866\n",
            "cos =  -0.5\n",
            "\n",
            "\n",
            "for y= 135\n",
            "sin =  0.7071\n",
            "cos =  -0.7071\n",
            "\n",
            "\n",
            "for y= 150\n",
            "sin =  0.5\n",
            "cos =  -0.866\n",
            "\n",
            "\n",
            "for y= 165\n",
            "sin =  0.2588\n",
            "cos =  -0.9659\n",
            "\n",
            "\n",
            "for y= 180\n",
            "sin =  0.0\n",
            "cos =  -1.0\n",
            "\n",
            "\n",
            "for y= 195\n",
            "sin =  -0.2588\n",
            "cos =  -0.9659\n",
            "\n",
            "\n",
            "for y= 210\n",
            "sin =  -0.5\n",
            "cos =  -0.866\n",
            "\n",
            "\n",
            "for y= 225\n",
            "sin =  -0.7071\n",
            "cos =  -0.7071\n",
            "\n",
            "\n",
            "for y= 240\n",
            "sin =  -0.866\n",
            "cos =  -0.5\n",
            "\n",
            "\n",
            "for y= 255\n",
            "sin =  -0.9659\n",
            "cos =  -0.2588\n",
            "\n",
            "\n",
            "for y= 270\n",
            "sin =  -1.0\n",
            "cos =  -0.0\n",
            "\n",
            "\n",
            "for y= 285\n",
            "sin =  -0.9659\n",
            "cos =  0.2588\n",
            "\n",
            "\n",
            "for y= 300\n",
            "sin =  -0.866\n",
            "cos =  0.5\n",
            "\n",
            "\n",
            "for y= 315\n",
            "sin =  -0.7071\n",
            "cos =  0.7071\n",
            "\n",
            "\n",
            "for y= 330\n",
            "sin =  -0.5\n",
            "cos =  0.866\n",
            "\n",
            "\n",
            "for y= 345\n",
            "sin =  -0.2588\n",
            "cos =  0.9659\n"
          ]
        }
      ]
    },
    {
      "cell_type": "markdown",
      "source": [
        "**3.Write a program that asks the user for a number of seconds and prints out \n",
        "how many minutes and seconds that is. For instance, 200 seconds is 3 \n",
        "minutes and 20 seconds.**"
      ],
      "metadata": {
        "id": "9uVSp2tlV9S-"
      }
    },
    {
      "cell_type": "code",
      "source": [
        "sec= int(input('enter the number of seconds. '))\n",
        "min= sec/60\n",
        "print('Time is ' ,int(min),'min')\n",
        "min= int(min)\n",
        "sec -= min*60\n",
        "print('and ', sec, 'sec')"
      ],
      "metadata": {
        "colab": {
          "base_uri": "https://localhost:8080/"
        },
        "id": "sQwkZTRmWEMc",
        "outputId": "404b30b8-5dff-4f31-b703-929d195746c1"
      },
      "execution_count": null,
      "outputs": [
        {
          "output_type": "stream",
          "name": "stdout",
          "text": [
            "enter the number of seconds. 333\n",
            "Time is  5 min\n",
            "and  33 sec\n"
          ]
        }
      ]
    }
  ]
}