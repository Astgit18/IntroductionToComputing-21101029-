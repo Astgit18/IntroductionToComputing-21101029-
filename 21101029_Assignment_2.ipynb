{
  "nbformat": 4,
  "nbformat_minor": 0,
  "metadata": {
    "colab": {
      "name": "21101029-Assignment-2",
      "provenance": [],
      "authorship_tag": "ABX9TyNVy6sPzQ627tkxaTGFpuU8",
      "include_colab_link": true
    },
    "kernelspec": {
      "name": "python3",
      "display_name": "Python 3"
    },
    "language_info": {
      "name": "python"
    }
  },
  "cells": [
    {
      "cell_type": "markdown",
      "metadata": {
        "id": "view-in-github",
        "colab_type": "text"
      },
      "source": [
        "<a href=\"https://colab.research.google.com/github/Astgit18/IntroductionToComputing-21101029-/blob/main/21101029_Assignment_2.ipynb\" target=\"_parent\"><img src=\"https://colab.research.google.com/assets/colab-badge.svg\" alt=\"Open In Colab\"/></a>"
      ]
    },
    {
      "cell_type": "code",
      "execution_count": 29,
      "metadata": {
        "colab": {
          "base_uri": "https://localhost:8080/"
        },
        "id": "xNCb5rTVKq6o",
        "outputId": "a547daf8-6d6e-4f79-9082-95fd38d2d4c6"
      },
      "outputs": [
        {
          "output_type": "stream",
          "name": "stdout",
          "text": [
            "a) length of string is: 35\n",
            "\n",
            "b) reversed st is: egaugnal evitisnes esac a si nohtyP\n",
            "\n",
            "c) new string  is: a case sensitive\n",
            "\n",
            "d) Python is object oriented language\n",
            "\n",
            "e) index of 'a' is: 10\n",
            "\n",
            "f) new string is:  Pythonisacasesensitivelanguage\n"
          ]
        }
      ],
      "source": [
        "st=\"Python is a case sensitive language\"\n",
        "print('a) length of string is:',len(st))\n",
        "\n",
        "print(\"\\nb) reversed st is:\",st[::-1])\n",
        "new_string=st[10:26]\n",
        "print(\"\\nc) new string  is:\",new_string)\n",
        "print('\\nd)',st.replace(\"a case sensitive\", \"object oriented\")) \n",
        "print(\"\\ne) index of 'a' is:\",st.find('a'))\n",
        "print('\\nf) new string is: ',st[:6]+st[7:9]+st[10:11]+st[12:16]+st[17:26]+st[27:35])\n"
      ]
    },
    {
      "cell_type": "code",
      "source": [
        ""
      ],
      "metadata": {
        "id": "mBuYWiskXQvN"
      },
      "execution_count": null,
      "outputs": []
    }
  ]
}